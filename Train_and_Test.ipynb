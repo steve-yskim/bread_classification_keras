{
 "cells": [
  {
   "cell_type": "markdown",
   "metadata": {},
   "source": [
    "# Train"
   ]
  },
  {
   "cell_type": "code",
   "execution_count": 1,
   "metadata": {},
   "outputs": [
    {
     "name": "stdout",
     "output_type": "stream",
     "text": [
      "Found 2500 images belonging to 5 classes.\n",
      "Found 500 images belonging to 5 classes.\n",
      "Model: \"sequential\"\n",
      "_________________________________________________________________\n",
      "Layer (type)                 Output Shape              Param #   \n",
      "=================================================================\n",
      "mobilenet_1.00_224 (Function (None, 7, 7, 1024)        3228864   \n",
      "_________________________________________________________________\n",
      "global_average_pooling2d (Gl (None, 1024)              0         \n",
      "_________________________________________________________________\n",
      "dropout (Dropout)            (None, 1024)              0         \n",
      "_________________________________________________________________\n",
      "dense (Dense)                (None, 1024)              1049600   \n",
      "_________________________________________________________________\n",
      "activation (Activation)      (None, 1024)              0         \n",
      "_________________________________________________________________\n",
      "batch_normalization (BatchNo (None, 1024)              4096      \n",
      "_________________________________________________________________\n",
      "dropout_1 (Dropout)          (None, 1024)              0         \n",
      "_________________________________________________________________\n",
      "dense_1 (Dense)              (None, 5)                 5125      \n",
      "=================================================================\n",
      "Total params: 4,287,685\n",
      "Trainable params: 4,263,749\n",
      "Non-trainable params: 23,936\n",
      "_________________________________________________________________\n"
     ]
    },
    {
     "name": "stderr",
     "output_type": "stream",
     "text": [
      "C:\\Users\\user\\anaconda3\\envs\\AIDL\\lib\\site-packages\\tensorflow\\python\\keras\\engine\\training.py:1844: UserWarning: `Model.fit_generator` is deprecated and will be removed in a future version. Please use `Model.fit`, which supports generators.\n",
      "  warnings.warn('`Model.fit_generator` is deprecated and '\n"
     ]
    },
    {
     "name": "stdout",
     "output_type": "stream",
     "text": [
      "78/78 [==============================] - 170s 2s/step - loss: 2.1381 - acc: 0.3466 - val_loss: 0.5319 - val_acc: 0.8300\n",
      "\n",
      "Epoch 00001: val_acc improved from -inf to 0.83000, saving model to model_saved/Bread-DATASET/MobileNet_1\\model-001-0.420400-0.830000.h5\n"
     ]
    },
    {
     "data": {
      "image/png": "[encoded data removed]",
      "text/plain": [
       "<Figure size 432x288 with 1 Axes>"
      ]
     },
     "metadata": {
      "needs_background": "light"
     },
     "output_type": "display_data"
    }
   ],
   "source": [
    "from Keras_train_Bread import * # Keras_train_Bread.py를 불러옵니다\n",
    "\n",
    "train_path = 'Bread-DATASET/train/' # train 이미지 폴더, 경로 마지막에 반드시 '/'를 기입해야하며합니다.\n",
    "val_path = 'Bread-DATASET/test/' # validation 이미지 폴더, \n",
    "model_name = 'MobileNet' # https://keras.io/api/applications/ 에 있는 모델이름\n",
    "epoch = 1 # 학습 폴더의 모든 이미지를 한번 돌릴때 1 epoch\n",
    "batch_size = 32 # 한번에 몇 장의 이미지를 학습할 것인지\n",
    "learning_rate = 0.0001 # 잘 모르겠으면 1e-4 ~ 1e-6으로 오랜 epoch 돌리면 됩니다\n",
    "with tf.device('/cpu:0'): # gpu가 있으면 cpu -> gpu로 바꾸세요\n",
    "    # Transfer learn의 fine tuning 객체를 생성합니다\n",
    "    fine_tunning = Fine_tunning(train_path = train_path, val_path = val_path,\n",
    "                                model_name = model_name,\n",
    "                                epoch = epoch, batch_size = batch_size, learning_rate = learning_rate)\n",
    "    # 훈련을 시킵니다\n",
    "    history = fine_tunning.training()\n",
    "    # 결과를 저장합니다\n",
    "    fine_tunning.save_accuracy(history)"
   ]
  },
  {
   "cell_type": "markdown",
   "metadata": {},
   "source": [
    "# Test"
   ]
  },
  {
   "cell_type": "code",
   "execution_count": 2,
   "metadata": {},
   "outputs": [
    {
     "name": "stdout",
     "output_type": "stream",
     "text": [
      "Found 500 images belonging to 5 classes.\n"
     ]
    },
    {
     "name": "stderr",
     "output_type": "stream",
     "text": [
      "C:\\Users\\user\\anaconda3\\envs\\AIDL\\lib\\site-packages\\tensorflow\\python\\keras\\engine\\training.py:1905: UserWarning: `Model.predict_generator` is deprecated and will be removed in a future version. Please use `Model.predict`, which supports generators.\n",
      "  warnings.warn('`Model.predict_generator` is deprecated and '\n"
     ]
    },
    {
     "name": "stdout",
     "output_type": "stream",
     "text": [
      "16/16 [==============================] - 44s 501ms/step\n",
      "              precision  recall  f1-score  support\n",
      "0              0.764706    0.78  0.772277   100.00\n",
      "1              0.801887    0.85  0.825243   100.00\n",
      "2              0.829787    0.78  0.804124   100.00\n",
      "3              0.854545    0.94  0.895238   100.00\n",
      "4              0.909091    0.80  0.851064   100.00\n",
      "accuracy       0.830000    0.83  0.830000     0.83\n",
      "macro avg      0.832003    0.83  0.829589   500.00\n",
      "weighted avg   0.832003    0.83  0.829589   500.00\n"
     ]
    }
   ],
   "source": [
    "import pandas as pd\n",
    "from sklearn import metrics\n",
    "from tensorflow.keras.models import load_model\n",
    "from tensorflow.keras.preprocessing.image import ImageDataGenerator\n",
    "from PIL import ImageFile\n",
    "ImageFile.LOAD_TRUNCATED_IMAGES = True\n",
    "\n",
    "name = 'Bread'\n",
    "modelPath = 'model_saved/Bread-DATASET/MobileNet_1/model-001-0.420400-0.830000.h5' # Test weight 경로 직접 입력\n",
    "\n",
    "# weight = 'model-078-0.925417-0.916944.h5'        # 학습된 모델의 파일이름\n",
    "test_Path = 'Bread-DATASET/test/'#'e:/hackathon/entropion/val' # 테스트 이미지 폴더\n",
    "#dataset 이후 Skin 혹은 Eye로 데이터셋 변경이 가능하며, 그 이후 디렉토리 구조는 동일합니다.\n",
    "\n",
    "# model = load_model(modelPath + weight)\n",
    "model = load_model(modelPath)\n",
    "datagen_test = ImageDataGenerator(rescale=1./255)\n",
    "\n",
    "generator_test = datagen_test.flow_from_directory(directory=test_Path,\n",
    "                                                  target_size=(224, 224),\n",
    "                                                  interpolation='bilinear', # 훈련시 포함했으므로 반드시 포함\n",
    "                                                  batch_size=32,\n",
    "                                                  shuffle=False)\n",
    "\n",
    "# model로 test set 추론\n",
    "generator_test.reset()\n",
    "cls_test = generator_test.classes\n",
    "cls_pred = model.predict_generator(generator_test, verbose=1, workers=0)\n",
    "cls_pred_argmax = cls_pred.argmax(axis=1)\n",
    "\n",
    "# 결과 산출 및 저장\n",
    "report = metrics.classification_report(y_true=cls_test, y_pred=cls_pred_argmax, output_dict=True)\n",
    "report = pd.DataFrame(report).transpose()\n",
    "#report.to_csv(f'e:/output/report_test_{name}.csv', index=True, encoding='cp949')\n",
    "report.to_csv(f'report_test_{name}.csv', index=True, encoding='cp949') # 원하는 위치로 변경\n",
    "print(report)"
   ]
  },
  {
   "cell_type": "code",
   "execution_count": null,
   "metadata": {},
   "outputs": [],
   "source": []
  }
 ],
 "metadata": {
  "kernelspec": {
   "display_name": "AIDL",
   "language": "python",
   "name": "aidl"
  },
  "language_info": {
   "codemirror_mode": {
    "name": "ipython",
    "version": 3
   },
   "file_extension": ".py",
   "mimetype": "text/x-python",
   "name": "python",
   "nbconvert_exporter": "python",
   "pygments_lexer": "ipython3",
   "version": "3.7.10"
  }
 },
 "nbformat": 4,
 "nbformat_minor": 4
}
